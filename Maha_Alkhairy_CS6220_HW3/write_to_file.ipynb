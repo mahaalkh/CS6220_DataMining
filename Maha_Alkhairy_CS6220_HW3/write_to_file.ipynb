{
 "cells": [
  {
   "cell_type": "code",
   "execution_count": 2,
   "metadata": {
    "collapsed": true
   },
   "outputs": [],
   "source": [
    "import re "
   ]
  },
  {
   "cell_type": "code",
   "execution_count": 3,
   "metadata": {
    "collapsed": true
   },
   "outputs": [],
   "source": [
    "PAPER_TITLE = \"#*\"\n",
    "PAPER_TITLE_re = \"#\\*\"\n",
    "reg_match = '^{}(.*)'\n",
    "\n",
    "\n",
    "VENUE = \"#c\" "
   ]
  },
  {
   "cell_type": "code",
   "execution_count": 4,
   "metadata": {
    "collapsed": true
   },
   "outputs": [],
   "source": [
    "def parse_data(filename=\"publications.txt\"):\n",
    "    \"\"\"\n",
    "    \"\"\"\n",
    "    fd = open(filename)\n",
    "    venue_title = {\"NIPS\": [], \"VLDB\": []}\n",
    "    current_title = None \n",
    "    for line in fd: \n",
    "        if line.startswith(PAPER_TITLE):\n",
    "            title = re.search(reg_match.format(PAPER_TITLE_re), line).group(1).strip() \n",
    "            if title != \"\": \n",
    "                current_title = title\n",
    "            else: \n",
    "                current_title = None \n",
    "\n",
    "        elif line.startswith(VENUE): \n",
    "            venue = re.search(reg_match.format(VENUE), line).group(1).strip()\n",
    "            if \"NIPS\" in venue: \n",
    "                venue_title[\"NIPS\"].append(current_title)\n",
    "            elif \"VLDB\" in venue: \n",
    "                venue_title[\"VLDB\"].append(current_title)\n",
    "                                \n",
    "    return venue_title"
   ]
  },
  {
   "cell_type": "code",
   "execution_count": 6,
   "metadata": {
    "collapsed": false
   },
   "outputs": [
    {
     "name": "stdout",
     "output_type": "stream",
     "text": [
      "done\n"
     ]
    }
   ],
   "source": [
    "venue_title = parse_data() \n",
    "print(\"done\")"
   ]
  },
  {
   "cell_type": "code",
   "execution_count": 7,
   "metadata": {
    "collapsed": true
   },
   "outputs": [],
   "source": [
    "def write_to_file(lst, filename=\"venue_baskets.txt\"): \n",
    "    \"\"\"\n",
    "    write the list to file \n",
    "    \"\"\"\n",
    "    fd = open(filename, \"w\")\n",
    "    for l in lst: \n",
    "        fd.write(l + \"\\n\") "
   ]
  },
  {
   "cell_type": "code",
   "execution_count": 8,
   "metadata": {
    "collapsed": false
   },
   "outputs": [],
   "source": [
    "write_to_file(venue_title[\"NIPS\"], filename=\"NIPS_titles.txt\")\n",
    "write_to_file(venue_title[\"VLDB\"], filename=\"VLDB_titles.txt\")"
   ]
  },
  {
   "cell_type": "code",
   "execution_count": 10,
   "metadata": {
    "collapsed": false
   },
   "outputs": [
    {
     "name": "stdout",
     "output_type": "stream",
     "text": [
      "4853\n",
      "3997\n"
     ]
    }
   ],
   "source": [
    "print(len(venue_title[\"NIPS\"]))\n",
    "print(len(venue_title[\"VLDB\"]))"
   ]
  },
  {
   "cell_type": "code",
   "execution_count": null,
   "metadata": {
    "collapsed": true
   },
   "outputs": [],
   "source": []
  }
 ],
 "metadata": {
  "kernelspec": {
   "display_name": "Python 3",
   "language": "python",
   "name": "python3"
  },
  "language_info": {
   "codemirror_mode": {
    "name": "ipython",
    "version": 3
   },
   "file_extension": ".py",
   "mimetype": "text/x-python",
   "name": "python",
   "nbconvert_exporter": "python",
   "pygments_lexer": "ipython3",
   "version": "3.5.2"
  }
 },
 "nbformat": 4,
 "nbformat_minor": 2
}
