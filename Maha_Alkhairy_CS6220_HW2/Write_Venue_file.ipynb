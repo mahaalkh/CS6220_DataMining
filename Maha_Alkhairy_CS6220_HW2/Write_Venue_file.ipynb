{
 "cells": [
  {
   "cell_type": "code",
   "execution_count": 1,
   "metadata": {
    "collapsed": true
   },
   "outputs": [],
   "source": [
    "import re"
   ]
  },
  {
   "cell_type": "code",
   "execution_count": 2,
   "metadata": {
    "collapsed": true
   },
   "outputs": [],
   "source": [
    "AUTHORS = \"#@\" \n",
    "VENUE = \"#c\" \n",
    "reg_match = '^{}(.*)'\n",
    "def parse_data(filename=\"publications.txt\"):\n",
    "    \"\"\"\n",
    "    parses the text and groups the venues that the unique author published in together \n",
    "    \"\"\"\n",
    "    fd = open(filename)\n",
    "    auths_current = [] \n",
    "    author_venue = {}\n",
    "    for line in fd: \n",
    "        if line.startswith(AUTHORS):\n",
    "            authors = re.search(reg_match.format(AUTHORS), line).group(1).strip()\n",
    "            auths_current = list(filter(lambda s: s != \"\", list(map(lambda ath: ath.strip(), authors.split(','))))) \n",
    "            for a in auths_current:\n",
    "                if a in author_venue.keys(): \n",
    "                    continue \n",
    "                else: \n",
    "                    author_venue[a] = set()\n",
    "\n",
    "        elif line.startswith(VENUE): \n",
    "            venue = re.search(reg_match.format(VENUE), line).group(1).strip()\n",
    "            if venue != \"\": \n",
    "                for a in auths_current: \n",
    "                    author_venue[a].add(venue)\n",
    "                auths_current = []\n",
    "                \n",
    "    return author_venue"
   ]
  },
  {
   "cell_type": "code",
   "execution_count": 3,
   "metadata": {
    "collapsed": true
   },
   "outputs": [],
   "source": [
    "AUTHOR_VENUE = parse_data() \n",
    "author_trans = list(map(lambda l: list(l), AUTHOR_VENUE.values()))"
   ]
  },
  {
   "cell_type": "code",
   "execution_count": 4,
   "metadata": {
    "collapsed": true
   },
   "outputs": [],
   "source": [
    "def write_to_file(lst, filename=\"venue_baskets.txt\"): \n",
    "    \"\"\"\n",
    "    write the list to file \n",
    "    \"\"\"\n",
    "    fd = open(filename, \"w\")\n",
    "    for l in lst: \n",
    "        fd.write(\" ; \".join(l))\n",
    "        fd.write(\"\\n\")"
   ]
  },
  {
   "cell_type": "code",
   "execution_count": 5,
   "metadata": {
    "collapsed": true
   },
   "outputs": [],
   "source": [
    "write_to_file(author_trans)"
   ]
  },
  {
   "cell_type": "code",
   "execution_count": null,
   "metadata": {
    "collapsed": true
   },
   "outputs": [],
   "source": []
  }
 ],
 "metadata": {
  "kernelspec": {
   "display_name": "Python [default]",
   "language": "python",
   "name": "python3"
  },
  "language_info": {
   "codemirror_mode": {
    "name": "ipython",
    "version": 3
   },
   "file_extension": ".py",
   "mimetype": "text/x-python",
   "name": "python",
   "nbconvert_exporter": "python",
   "pygments_lexer": "ipython3",
   "version": "3.5.2"
  }
 },
 "nbformat": 4,
 "nbformat_minor": 2
}
