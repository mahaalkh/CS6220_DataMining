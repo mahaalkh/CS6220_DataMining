{
 "cells": [
  {
   "cell_type": "markdown",
   "metadata": {},
   "source": [
    "\n",
    "## CS6220 - HW4 - Maha Alkhairy\n",
    "### Clustering and evaluation \n"
   ]
  },
  {
   "cell_type": "code",
   "execution_count": null,
   "metadata": {
    "collapsed": false
   },
   "outputs": [],
   "source": [
    "\"\"\"\n",
    "Implementation of different types of clustering \n",
    "\"\"\"\n",
    "import random\n",
    "import sklearn \n",
    "import numpy as np \n",
    "import scipy.io \n",
    "import matplotlib.pyplot as plt\n",
    "from scipy.spatial import distance\n",
    "from pandas import DataFrame\n",
    "from sklearn.metrics import normalized_mutual_info_score, silhouette_score, calinski_harabaz_score"
   ]
  },
  {
   "cell_type": "markdown",
   "metadata": {},
   "source": [
    "### Written part: \n",
    "#### for more detail look at the scanned pdf "
   ]
  },
  {
   "cell_type": "markdown",
   "metadata": {},
   "source": [
    "#### Question 1: \n",
    "a. The clusters given their points: \n",
    "* Cluster 1: {[0, 1], [1, 2], [2, 3], [3, 4]} \n",
    "* Cluster 2: {[5, 2], [6, 1], [7, 2], [6, 3]}\n",
    "\n",
    "b. Points which are density connected: \n",
    "* [0, 1], [1, 2], [2, 3] and [3, 4] are density connected\n",
    "* [5, 2], [6, 1], [7, 2] and [6, 3] are density connected \n",
    "\n",
    "c. Points considered as noise are: [0, 6], [0, 7] and [10, 3]\n",
    "\n"
   ]
  },
  {
   "cell_type": "code",
   "execution_count": 2,
   "metadata": {
    "collapsed": false
   },
   "outputs": [
    {
     "data": {
      "image/png": "[encoded data removed]",
      "text/plain": [
       "<matplotlib.figure.Figure at 0x2847e3e85f8>"
      ]
     },
     "metadata": {},
     "output_type": "display_data"
    }
   ],
   "source": [
    "# ******  plotting the written part to make sense of data ****\n",
    "data_DBSCAN = np.array([[0, 1], \n",
    "                        [5, 2], \n",
    "                        [2, 3], \n",
    "                        [6, 1], \n",
    "                        [10, 2],\n",
    "                        [0, 6], \n",
    "                        [3, 4], \n",
    "                        [6, 3], \n",
    "                        [0, 7], \n",
    "                        [7, 2], \n",
    "                        [1, 2]])\n",
    "\n",
    "# print(data_DBSCAN)\n",
    "\n",
    "\n",
    "df_2 = DataFrame(data_DBSCAN, columns = ['x1', 'x2'])\n",
    "df_2.plot(kind='scatter', x = 'x1', y = 'x2')\n",
    "plt.show()"
   ]
  },
  {
   "cell_type": "markdown",
   "metadata": {},
   "source": [
    "#### Question 2: \n",
    "C<sub>1</sub> = {(5, 6), (8, 7), (7, 3)} <br/>\n",
    "C<sub>2</sub> = {(6, 5), (4, 5), (9, 2), (3, 5), (8, 4)}\n",
    "\n",
    "a. mean vectors: \n",
    " * m1 = [6.66666, 5.33333] (mean of first cluster (1 × 2))\n",
    " * m2 = [6, 4.2]            (mean of second cluster (1 × 2)) \n",
    " \n",
    "b. total mean vector: \n",
    "* m = [6.25, 4.625]       (mean of all points (1 × 2))  \n",
    "\n",
    "\n",
    "c. Scatter matrices of the clusters \n",
    "* S<sub>1</sub> = [[4.6666, 0.333333], [0.33333, 8.66666]]   (scatter matrix of cluster 1 (2 × 2)) \n",
    "* S<sub>2</sub> = [[26, -11], [-11, 6.8]]   (scatter matrix of cluster 2 (2 × 2))  \n",
    " \n",
    "d. Within cluster scatter matrix (2 × 2)\n",
    "* S<sub>w</sub> = S<sub>1</sub> + S<sub>2</sub> = [[30.6666, -10.6666], [-10.6666, 15.46666]]\n",
    "\n",
    "\n",
    "e. Between cluster scatter matrix (2 × 2)\n",
    "* S<sub>b</sub> = (m1 - m).T × (m1 - m) = [[0.83333, 1.4166666], [1.4166666, 2.40833333]]\n",
    "\n",
    "f. evaluation: based on the scattering criteria, this clustering is not good. \n",
    "* tr(S<sub>w</sub>)  = 30.6666 + 15.46666  = 46.1333 (want low) (add the diagonal elements in S<sub>W</sub>)\n",
    "* tr(S<sub>b</sub>)  = 0.83333 + 2.40833333 = 3.2416666 (want high) (add the diagonal elements in S<sub>B</sub>)\n",
    "* (tr(S<sub>b</sub>)  / tr(S<sub>w</sub>)) = 0.070267 (want high) \n",
    "\n"
   ]
  },
  {
   "cell_type": "code",
   "execution_count": 3,
   "metadata": {
    "collapsed": false,
    "scrolled": false
   },
   "outputs": [
    {
     "data": {
      "image/png": "[encoded data removed]",
      "text/plain": [
       "<matplotlib.figure.Figure at 0x2847e82c208>"
      ]
     },
     "metadata": {},
     "output_type": "display_data"
    }
   ],
   "source": [
    "# ******  plotting the written part to make sense of data ****\n",
    "cluster1 = [[5, 6], [8, 7], [7, 3]]\n",
    "cluster2 = [[6, 5], [4, 5], [9, 2], [3, 5], [8, 4]]\n",
    "\n",
    "# all_data = list(cluster1)\n",
    "# all_data.extend(cluster2)\n",
    "\n",
    "# cluster1_matrix = np.array(cluster1)\n",
    "# cluster2_matrix = np.array(cluster2)\n",
    "\n",
    "# all_data_matrix = np.array(all_data)\n",
    "\n",
    "\n",
    "df = DataFrame(np.array(cluster1), columns = ['x1', 'x2'])\n",
    "c1 = df.plot(kind='scatter', x = 'x1', y = 'x2')\n",
    "# plt.show()\n",
    "\n",
    "df1 = DataFrame(np.array(cluster2), columns = ['x1', 'x2'])\n",
    "df1.plot(kind='scatter', x = 'x1', y = 'x2', c = ['red'], ax = c1)\n",
    "plt.show()\n",
    "    \n",
    "# m1 = np.mean(cluster1_matrix, axis=0)\n",
    "# m2 = np.mean(cluster2_matrix, axis=0)\n",
    "# m = np.mean(all_data_matrix, axis=0)\n",
    "\n",
    "# C1_m1 = cluster1_matrix - m1\n",
    "# C2_m2 = cluster2_matrix - m2\n",
    "\n",
    "# S1 = np.dot(C1_m1.T, C1_m1)\n",
    "# S2 = np.dot(C2_m2.T, C2_m2)\n",
    "# S_W = S1 + S2 \n",
    "\n",
    "# m_1 = np.array([(m1 - m)])\n",
    "# m_2 = np.array([(m2 - m)])\n",
    "# S_B = np.dot(m_1.T, m_1) * 3 + np.dot(m_2.T, m_2) * 5\n",
    "# np.shape(S_B)\n",
    "# print(S_B.trace()/ S_W.trace())"
   ]
  },
  {
   "cell_type": "markdown",
   "metadata": {},
   "source": [
    "### Programming part: "
   ]
  },
  {
   "cell_type": "code",
   "execution_count": 4,
   "metadata": {
    "collapsed": false
   },
   "outputs": [],
   "source": [
    "data1 = np.loadtxt(\"datasets/datasets/dataset1.txt\",\n",
    "                    dtype = {'names': ('x1', 'x2', 'label'), 'formats': (float, float, int)},\n",
    "                    delimiter=\"\\t\")\n",
    "data2 = np.loadtxt(\"datasets/datasets/dataset2.txt\",\n",
    "                   dtype = {'names': ('x1', 'x2', 'label'), 'formats': (float, float, int)}, \n",
    "                   delimiter=\"\\t\")\n",
    "data3 = np.loadtxt(\"datasets/datasets/dataset3.txt\",\n",
    "                   dtype = {'names': ('x1', 'x2', 'label'), 'formats': (float, float, int)}, \n",
    "                   delimiter=\"\\t\")"
   ]
  },
  {
   "cell_type": "code",
   "execution_count": 5,
   "metadata": {
    "collapsed": true
   },
   "outputs": [],
   "source": [
    "def create_io_matrix(d): \n",
    "    \"\"\"\n",
    "    formats the input data in a matrix format (n × d) where d is the number of dimentions and n is the number of data points \n",
    "    formats the label data in a matrix format (n × 1) where n is the number of data points \n",
    "    \"\"\"\n",
    "    matrix_input = [[x1, x2] for x1, x2, l in d]\n",
    "    matrix_labels = [l for x1, x2, l in d]\n",
    "    \n",
    "    return (np.array(matrix_input), np.array(matrix_labels))"
   ]
  },
  {
   "cell_type": "code",
   "execution_count": 6,
   "metadata": {
    "collapsed": false
   },
   "outputs": [
    {
     "name": "stdout",
     "output_type": "stream",
     "text": [
      "(150, 2)\n"
     ]
    }
   ],
   "source": [
    "### number of clusters = 3\n",
    "data1_matrix, data1_labels = create_io_matrix(data1)\n",
    "# print(len(data1))\n",
    "print(np.shape(data1_matrix))\n",
    "# print(np.shape(data1_labels))\n",
    "# print(data1_labels)\n",
    "### number of cluster = 3\n",
    "data2_matrix, data2_labels = create_io_matrix(data2)\n",
    "# print(len(data2))\n",
    "# print(np.shape(data2_matrix))\n",
    "# print(np.shape(data2_labels))\n",
    "# print(data2_labels)\n",
    "### number of clusters = 2\n",
    "data3_matrix, data3_labels = create_io_matrix(data3)\n",
    "# print(len(data3))\n",
    "# print(np.shape(data3_matrix))\n",
    "# print(np.shape(data3_labels))"
   ]
  },
  {
   "cell_type": "code",
   "execution_count": 7,
   "metadata": {
    "collapsed": false,
    "scrolled": false
   },
   "outputs": [
    {
     "name": "stdout",
     "output_type": "stream",
     "text": [
      "=================== data 1 ======================\n"
     ]
    },
    {
     "data": {
      "image/png": "[encoded data removed]",
      "text/plain": [
       "<matplotlib.figure.Figure at 0x2847e85ab00>"
      ]
     },
     "metadata": {},
     "output_type": "display_data"
    },
    {
     "name": "stdout",
     "output_type": "stream",
     "text": [
      "===================== data 2 ===================\n"
     ]
    },
    {
     "data": {
      "image/png": "[encoded data removed]",
      "text/plain": [
       "<matplotlib.figure.Figure at 0x2847e8a7dd8>"
      ]
     },
     "metadata": {},
     "output_type": "display_data"
    },
    {
     "name": "stdout",
     "output_type": "stream",
     "text": [
      "================= data 3 ==================\n"
     ]
    },
    {
     "data": {
      "image/png": "[encoded data removed]",
      "text/plain": [
       "<matplotlib.figure.Figure at 0x2847e9407f0>"
      ]
     },
     "metadata": {},
     "output_type": "display_data"
    }
   ],
   "source": [
    "############# initial data visualization \n",
    "\n",
    "df_1 = DataFrame(data1_matrix, columns = ['x1', 'x2'])\n",
    "df_1.plot(kind='scatter', x = 'x1', y = 'x2')\n",
    "\n",
    "print(\"=================== data 1 ======================\")\n",
    "plt.show()\n",
    "\n",
    "df_2 = DataFrame(data2_matrix, columns = ['x1', 'x2'])\n",
    "df_2.plot(kind='scatter', x = 'x1', y = 'x2')\n",
    "\n",
    "print(\"===================== data 2 ===================\")\n",
    "plt.show()\n",
    "\n",
    "df_3 = DataFrame(data3_matrix, columns = ['x1', 'x2'])\n",
    "df_3.plot(kind='scatter', x = 'x1', y = 'x2')\n",
    "\n",
    "print(\"================= data 3 ==================\")\n",
    "plt.show()"
   ]
  },
  {
   "cell_type": "markdown",
   "metadata": {},
   "source": [
    "based on the plotting of the points above, I would predict that k-means would be the best algorithm to get the clusters is k-means with 3 clusters \n",
    "\n"
   ]
  },
  {
   "cell_type": "markdown",
   "metadata": {},
   "source": [
    "## DBSCAN Algorithm (Q4)"
   ]
  },
  {
   "cell_type": "code",
   "execution_count": 8,
   "metadata": {
    "collapsed": false
   },
   "outputs": [],
   "source": [
    "### DBSCAN Algorithm: \n",
    "\n",
    "def DBSCAN(eps, min_points, input_matrix): \n",
    "    \"\"\"\n",
    "    \"\"\"\n",
    "    visited = []\n",
    "    noise = []\n",
    "    clusters = {}\n",
    "    c_index = 0\n",
    "    \n",
    "    print(\"running DBSCAN with eps = {}, and min_pts = {}\".format(eps, min_points))\n",
    "  \n",
    "    for p in input_matrix:\n",
    "        if list(p) in visited: \n",
    "            continue\n",
    "            \n",
    "        if list(p) not in visited:\n",
    "            visited.append(list(p))\n",
    "            neighbors = region_query(p, eps, input_matrix) \n",
    "            if len(neighbors) < min_points:\n",
    "                noise.append(list(p))\n",
    "            else: \n",
    "                c_index += 1\n",
    "                visited, clusters, noise = expand_cluster(p, neighbors, eps, min_points,\n",
    "                                                          visited, clusters, c_index,\n",
    "                                                          input_matrix, noise)    \n",
    "    return (visited, clusters, noise)\n",
    "            \n",
    "\n",
    "def expand_cluster(p, neighbors, eps, min_points, visited, clusters, c_index, input_matrix, noise): \n",
    "    \"\"\"\n",
    "    \"\"\"\n",
    "    clusters[c_index] = [list(p)]\n",
    "    for q in neighbors: \n",
    "        if list(q) not in visited: \n",
    "            visited.append(list(q))\n",
    "            new_neighbors = region_query(q, eps, input_matrix)\n",
    "            if len(new_neighbors) >= min_points: \n",
    "                neighbors.extend(new_neighbors)\n",
    "\n",
    "        if not member_cluster(list(q), clusters):\n",
    "            clusters[c_index].append(list(q))\n",
    "            if list(q) in noise: \n",
    "                noise.remove(list(q))\n",
    "            \n",
    "    return visited, clusters, noise\n",
    "            \n",
    "def member_cluster(q, clusters):\n",
    "    for _, c in clusters.items(): \n",
    "        if list(q) in c:\n",
    "            return True\n",
    "    return False\n",
    "\n",
    "def region_query(p, eps, input_matrix): \n",
    "    \"\"\"\n",
    "    :return: all points within P's eps-neighborhood (including P)\n",
    "    \"\"\"\n",
    "    eps_neighbors = [list(x) for x in input_matrix if (distance.euclidean(x, p) <= eps)]\n",
    "    return eps_neighbors\n",
    "    \n"
   ]
  },
  {
   "cell_type": "code",
   "execution_count": 9,
   "metadata": {
    "collapsed": false
   },
   "outputs": [
    {
     "name": "stdout",
     "output_type": "stream",
     "text": [
      "running DBSCAN on the first dataset: \n",
      "running DBSCAN with eps = 0.2, and min_pts = 2\n",
      "running DBSCAN with eps = 0.2, and min_pts = 3\n",
      "running DBSCAN with eps = 0.2, and min_pts = 4\n",
      "running DBSCAN with eps = 0.3, and min_pts = 2\n",
      "running DBSCAN with eps = 0.3, and min_pts = 3\n",
      "running DBSCAN with eps = 0.3, and min_pts = 4\n",
      "running DBSCAN with eps = 0.4, and min_pts = 2\n",
      "running DBSCAN with eps = 0.4, and min_pts = 3\n",
      "running DBSCAN with eps = 0.4, and min_pts = 4\n",
      "done running DBSCAN on the first dataset\n"
     ]
    }
   ],
   "source": [
    "### running DBSCAN on the data #1 \n",
    "\n",
    "print(\"running DBSCAN on the first dataset: \")\n",
    "visited111, clusters111, noise111 = DBSCAN(0.2, 2, data1_matrix)\n",
    "visited112, clusters112, noise112 = DBSCAN(0.2, 3, data1_matrix)\n",
    "visited113, clusters113, noise113 = DBSCAN(0.2, 4, data1_matrix)\n",
    "\n",
    "visited121, clusters121, noise121 = DBSCAN(0.3, 2, data1_matrix)\n",
    "visited122, clusters122, noise122 = DBSCAN(0.3, 3, data1_matrix)\n",
    "visited123, clusters123, noise123 = DBSCAN(0.3, 4, data1_matrix)\n",
    "\n",
    "visited131, clusters131, noise131 = DBSCAN(0.4, 2, data1_matrix)\n",
    "visited132, clusters132, noise132 = DBSCAN(0.4, 3, data1_matrix)\n",
    "visited133, clusters133, noise133 = DBSCAN(0.4, 4, data1_matrix)\n",
    "\n",
    "\n",
    "print(\"done running DBSCAN on the first dataset\")"
   ]
  },
  {
   "cell_type": "code",
   "execution_count": 10,
   "metadata": {
    "collapsed": false
   },
   "outputs": [
    {
     "name": "stdout",
     "output_type": "stream",
     "text": [
      "running DBSCAN on the second dataset: \n",
      "running DBSCAN with eps = 0.8, and min_pts = 6\n",
      "running DBSCAN with eps = 0.8, and min_pts = 7\n",
      "running DBSCAN with eps = 0.8, and min_pts = 8\n",
      "running DBSCAN with eps = 0.85, and min_pts = 6\n",
      "running DBSCAN with eps = 0.85, and min_pts = 7\n",
      "running DBSCAN with eps = 0.85, and min_pts = 8\n",
      "running DBSCAN with eps = 0.9, and min_pts = 6\n",
      "running DBSCAN with eps = 0.9, and min_pts = 7\n",
      "running DBSCAN with eps = 0.9, and min_pts = 8\n",
      "done running DBSCAN on the second dataset\n"
     ]
    }
   ],
   "source": [
    "### running DBSCAN on the data #2\n",
    "\n",
    "print(\"running DBSCAN on the second dataset: \")\n",
    "visited211, clusters211, noise211 = DBSCAN(0.8, 6, data2_matrix)\n",
    "visited212, clusters212, noise212 = DBSCAN(0.8, 7, data2_matrix)\n",
    "visited213, clusters213, noise213 = DBSCAN(0.8, 8, data2_matrix)\n",
    "\n",
    "visited221, clusters221, noise221 = DBSCAN(0.85, 6, data2_matrix)\n",
    "visited222, clusters222, noise222 = DBSCAN(0.85, 7, data2_matrix)\n",
    "visited223, clusters223, noise223 = DBSCAN(0.85, 8, data2_matrix)\n",
    "\n",
    "visited231, clusters231, noise231 = DBSCAN(0.9, 6, data2_matrix)\n",
    "visited232, clusters232, noise232 = DBSCAN(0.9, 7, data2_matrix)\n",
    "visited233, clusters233, noise233 = DBSCAN(0.9, 8, data2_matrix)\n",
    "\n",
    "\n",
    "print(\"done running DBSCAN on the second dataset\")"
   ]
  },
  {
   "cell_type": "code",
   "execution_count": null,
   "metadata": {
    "collapsed": false
   },
   "outputs": [],
   "source": [
    "### running DBSCAN on the data #3\n",
    "\n",
    "print(\"running DBSCAN on the third dataset: \")\n",
    "\n",
    "visited311, clusters311, noise311 = DBSCAN(0.2, 5, data3_matrix)\n",
    "visited312, clusters312, noise312 = DBSCAN(0.2, 6, data3_matrix)\n",
    "visited313, clusters313, noise313 = DBSCAN(0.2, 7, data3_matrix)\n",
    "\n",
    "visited321, clusters321, noise321 = DBSCAN(0.3, 5, data3_matrix)\n",
    "visited322, clusters322, noise322 = DBSCAN(0.3, 6, data3_matrix)\n",
    "visited323, clusters323, noise323 = DBSCAN(0.3, 7, data3_matrix)\n",
    "\n",
    "visited331, clusters331, noise331 = DBSCAN(0.4, 5, data3_matrix)\n",
    "visited332, clusters332, noise332 = DBSCAN(0.4, 6, data3_matrix)\n",
    "visited333, clusters333, noise333 = DBSCAN(0.4, 7, data3_matrix)\n",
    "\n",
    "print(\"done running DBSCAN on the third dataset\")"
   ]
  },
  {
   "cell_type": "markdown",
   "metadata": {},
   "source": [
    "### Evaluating DBSCAN with different eps and min_pts\n"
   ]
  },
  {
   "cell_type": "code",
   "execution_count": 12,
   "metadata": {
    "collapsed": false
   },
   "outputs": [],
   "source": [
    "def get_clustering_labels_dbscan(clusters, noise, data_matrix): \n",
    "    \"\"\"\n",
    "    0 is noise \n",
    "    \"\"\"\n",
    "    all_data = [list(p) for p in data_matrix]\n",
    "    labels = []\n",
    "    for c_i, c in clusters.items(): \n",
    "        for p in c: \n",
    "            i = all_data.index(p)\n",
    "            labels.insert(i+1, c_i)\n",
    "    for p in noise: \n",
    "        i = all_data.index(p)\n",
    "        labels.insert(i+1, 0)\n",
    "    return labels\n",
    "\n",
    "def get_clustering_scores(data_matrix, true_labels, clusterings_and_noise): \n",
    "    \"\"\"\n",
    "    \"\"\"\n",
    "    clustering, noise, clustering_name = clusterings_and_noise\n",
    "    predicted_labels = get_clustering_labels_dbscan(clustering, noise, data_matrix)\n",
    "    print(len(predicted_labels))\n",
    "    print(np.shape(data_matrix))\n",
    "    print(clustering_name)\n",
    "    print(len(clustering), len(noise))\n",
    "    print(\"\\t NMI: \", normalized_mutual_info_score(true_labels, predicted_labels))\n",
    "    print(\"\\t SC: \", silhouette_score(data_matrix, predicted_labels)) \n",
    "    print(\"\\t CH: \", calinski_harabaz_score(data_matrix, predicted_labels))\n",
    "    \n",
    "\n",
    "name_temp = \"clustering data {} using dbscan with eps = {} and  min_pts = {}\"\n",
    "\n",
    "clusterings_and_noise = {1: [\n",
    "                            (clusters111, noise111, name_temp.format(1, 0.2, 2)), \n",
    "                            (clusters112, noise112, name_temp.format(1, 0.2, 3)),\n",
    "                            (clusters113, noise113, name_temp.format(1, 0.2, 4)), \n",
    "\n",
    "                            (clusters121, noise121, name_temp.format(1, 0.3, 2)), \n",
    "                            (clusters122, noise122, name_temp.format(1, 0.3, 3)),\n",
    "                            (clusters123, noise123, name_temp.format(1, 0.3, 4)), \n",
    "\n",
    "                            (clusters131, noise131, name_temp.format(1, 0.4, 2)), \n",
    "                            (clusters132, noise132, name_temp.format(1, 0.4, 3)),\n",
    "                            (clusters133, noise133, name_temp.format(1, 0.4, 4))\n",
    "                            ], \n",
    "                        \n",
    "                        2: [\n",
    "                            (clusters211, noise211, name_temp.format(2, 0.8, 6)), \n",
    "                            (clusters212, noise212, name_temp.format(2, 0.8, 7)), \n",
    "                            (clusters213, noise213, name_temp.format(2, 0.8, 8)),\n",
    "\n",
    "                            (clusters221, noise221, name_temp.format(2, 0.85, 6)), \n",
    "                            (clusters222, noise222, name_temp.format(2, 0.85, 7)), \n",
    "                            (clusters223, noise223, name_temp.format(2, 0.85, 8)), \n",
    "\n",
    "                            (clusters231, noise231, name_temp.format(2, 0.9, 6)),\n",
    "                            (clusters232, noise232, name_temp.format(2, 0.9, 7)), \n",
    "                            (clusters233, noise233, name_temp.format(2, 0.9, 8))\n",
    "                           ], \n",
    "                        \n",
    "                        3: [\n",
    "                            (clusters311, noise311, name_temp.format(3, 0.2, 5)), \n",
    "                            (clusters312, noise312, name_temp.format(3, 0.2, 6)), \n",
    "                            (clusters313, noise313, name_temp.format(3, 0.2, 7)), \n",
    "\n",
    "                            (clusters321, noise321, name_temp.format(3,0.3, 5)), \n",
    "                            (clusters322, noise322, name_temp.format(3,0.3, 6)), \n",
    "                            (clusters323, noise323, name_temp.format(3,0.3, 7)), \n",
    "\n",
    "                            (clusters331, noise331 , name_temp.format(3, 0.4, 5)), \n",
    "                            (clusters332, noise332 , name_temp.format(3, 0.4, 6)), \n",
    "                            (clusters333, noise333 , name_temp.format(3, 0.4, 7))\n",
    "    ]} \n",
    "\n",
    "\n",
    "    \n",
    "# get_clustering_scores(data3_matrix, data3_labels, clusterings_and_noise[3][4])"
   ]
  },
  {
   "cell_type": "code",
   "execution_count": 13,
   "metadata": {
    "collapsed": false,
    "scrolled": false
   },
   "outputs": [
    {
     "name": "stdout",
     "output_type": "stream",
     "text": [
      " ---------------------------------------------- \n",
      "150\n",
      "(150, 2)\n",
      "clustering data 1 using dbscan with eps = 0.2 and  min_pts = 2\n",
      "10 22\n",
      "\t NMI:  0.646195546176\n",
      "\t SC:  -0.0516638088132\n",
      "\t CH:  47.7051454088\n",
      " ---------------------------------------------- \n",
      "150\n",
      "(150, 2)\n",
      "clustering data 1 using dbscan with eps = 0.2 and  min_pts = 3\n",
      "8 26\n",
      "\t NMI:  0.639288539112\n",
      "\t SC:  0.00493412605307\n",
      "\t CH:  51.068307666\n",
      " ---------------------------------------------- \n",
      "150\n",
      "(150, 2)\n",
      "clustering data 1 using dbscan with eps = 0.2 and  min_pts = 4\n",
      "7 34\n",
      "\t NMI:  0.606522607116\n",
      "\t SC:  -0.0266342173032\n",
      "\t CH:  43.5332413573\n",
      " ---------------------------------------------- \n",
      "150\n",
      "(150, 2)\n",
      "clustering data 1 using dbscan with eps = 0.3 and  min_pts = 2\n",
      "8 8\n",
      "\t NMI:  0.808041793035\n",
      "\t SC:  0.0910046812406\n",
      "\t CH:  117.829730523\n",
      " ---------------------------------------------- \n",
      "150\n",
      "(150, 2)\n",
      "clustering data 1 using dbscan with eps = 0.3 and  min_pts = 3\n",
      "4 16\n",
      "\t NMI:  0.812684971619\n",
      "\t SC:  0.342922761635\n",
      "\t CH:  172.759943135\n",
      " ---------------------------------------------- \n",
      "150\n",
      "(150, 2)\n",
      "clustering data 1 using dbscan with eps = 0.3 and  min_pts = 4\n",
      "3 20\n",
      "\t NMI:  0.814897629999\n",
      "\t SC:  0.458025593455\n",
      "\t CH:  219.432578181\n",
      " ---------------------------------------------- \n",
      "150\n",
      "(150, 2)\n",
      "clustering data 1 using dbscan with eps = 0.4 and  min_pts = 2\n",
      "4 3\n",
      "\t NMI:  0.926035607706\n",
      "\t SC:  0.387851424278\n",
      "\t CH:  272.171466867\n",
      " ---------------------------------------------- \n",
      "150\n",
      "(150, 2)\n",
      "clustering data 1 using dbscan with eps = 0.4 and  min_pts = 3\n",
      "3 5\n",
      "\t NMI:  0.926171848823\n",
      "\t SC:  0.585198949456\n",
      "\t CH:  326.978541133\n",
      " ---------------------------------------------- \n",
      "150\n",
      "(150, 2)\n",
      "clustering data 1 using dbscan with eps = 0.4 and  min_pts = 4\n",
      "3 6\n",
      "\t NMI:  0.918148219281\n",
      "\t SC:  0.579067557845\n",
      "\t CH:  321.187870598\n",
      " ---------------------------------------------- \n",
      "200\n",
      "(200, 2)\n",
      "clustering data 2 using dbscan with eps = 0.8 and  min_pts = 6\n",
      "3 11\n",
      "\t NMI:  0.88908653603\n",
      "\t SC:  0.381940697583\n",
      "\t CH:  208.137825958\n",
      " ---------------------------------------------- \n",
      "200\n",
      "(200, 2)\n",
      "clustering data 2 using dbscan with eps = 0.8 and  min_pts = 7\n",
      "3 18\n",
      "\t NMI:  0.864831452116\n",
      "\t SC:  0.348160658563\n",
      "\t CH:  206.554314177\n",
      " ---------------------------------------------- \n",
      "200\n",
      "(200, 2)\n",
      "clustering data 2 using dbscan with eps = 0.8 and  min_pts = 8\n",
      "3 23\n",
      "\t NMI:  0.85247150819\n",
      "\t SC:  0.358057246844\n",
      "\t CH:  208.051013015\n",
      " ---------------------------------------------- \n",
      "200\n",
      "(200, 2)\n",
      "clustering data 2 using dbscan with eps = 0.85 and  min_pts = 6\n",
      "3 9\n",
      "\t NMI:  0.898206773118\n",
      "\t SC:  0.405883802151\n",
      "\t CH:  207.632512274\n",
      " ---------------------------------------------- \n",
      "200\n",
      "(200, 2)\n",
      "clustering data 2 using dbscan with eps = 0.85 and  min_pts = 7\n",
      "3 17\n",
      "\t NMI:  0.867728618013\n",
      "\t SC:  0.352422479664\n",
      "\t CH:  206.318730858\n",
      " ---------------------------------------------- \n",
      "200\n",
      "(200, 2)\n",
      "clustering data 2 using dbscan with eps = 0.85 and  min_pts = 8\n",
      "3 19\n",
      "\t NMI:  0.862087832269\n",
      "\t SC:  0.351454203245\n",
      "\t CH:  207.722898007\n",
      " ---------------------------------------------- \n",
      "200\n",
      "(200, 2)\n",
      "clustering data 2 using dbscan with eps = 0.9 and  min_pts = 6\n",
      "3 7\n",
      "\t NMI:  0.908790490113\n",
      "\t SC:  0.415764191075\n",
      "\t CH:  206.827386859\n",
      " ---------------------------------------------- \n",
      "200\n",
      "(200, 2)\n",
      "clustering data 2 using dbscan with eps = 0.9 and  min_pts = 7\n",
      "3 8\n",
      "\t NMI:  0.903287900898\n",
      "\t SC:  0.402698956846\n",
      "\t CH:  206.623217331\n",
      " ---------------------------------------------- \n",
      "200\n",
      "(200, 2)\n",
      "clustering data 2 using dbscan with eps = 0.9 and  min_pts = 8\n",
      "3 10\n",
      "\t NMI:  0.893488073368\n",
      "\t SC:  0.396204227984\n",
      "\t CH:  207.662199756\n",
      " ---------------------------------------------- \n",
      "200\n",
      "(200, 2)\n",
      "clustering data 3 using dbscan with eps = 0.2 and  min_pts = 5\n",
      "3 1\n",
      "\t NMI:  0.807116268689\n",
      "\t SC:  0.0462020293901\n",
      "\t CH:  54.249635384\n",
      " ---------------------------------------------- \n",
      "200\n",
      "(200, 2)\n",
      "clustering data 3 using dbscan with eps = 0.2 and  min_pts = 6\n",
      "3 6\n",
      "\t NMI:  0.782367606139\n",
      "\t SC:  0.107675207957\n",
      "\t CH:  54.6213142634\n",
      " ---------------------------------------------- \n",
      "200\n",
      "(200, 2)\n",
      "clustering data 3 using dbscan with eps = 0.2 and  min_pts = 7\n",
      "3 6\n",
      "\t NMI:  0.782367606139\n",
      "\t SC:  0.107675207957\n",
      "\t CH:  54.6213142634\n",
      " ---------------------------------------------- \n",
      "200\n",
      "(200, 2)\n",
      "clustering data 3 using dbscan with eps = 0.3 and  min_pts = 5\n",
      "2 0\n",
      "\t NMI:  1.0\n",
      "\t SC:  0.362298541786\n",
      "\t CH:  162.813208069\n",
      " ---------------------------------------------- \n",
      "200\n",
      "(200, 2)\n",
      "clustering data 3 using dbscan with eps = 0.3 and  min_pts = 6\n",
      "2 0\n",
      "\t NMI:  1.0\n",
      "\t SC:  0.362298541786\n",
      "\t CH:  162.813208069\n",
      " ---------------------------------------------- \n",
      "200\n",
      "(200, 2)\n",
      "clustering data 3 using dbscan with eps = 0.3 and  min_pts = 7\n",
      "2 0\n",
      "\t NMI:  1.0\n",
      "\t SC:  0.362298541786\n",
      "\t CH:  162.813208069\n",
      " ---------------------------------------------- \n",
      "200\n",
      "(200, 2)\n",
      "clustering data 3 using dbscan with eps = 0.4 and  min_pts = 5\n",
      "1 0\n",
      "\t NMI:  8.881784197e-06\n",
      "only found one cluster  clustering data 3 using dbscan with eps = 0.4 and  min_pts = 5\n",
      " ---------------------------------------------- \n",
      "200\n",
      "(200, 2)\n",
      "clustering data 3 using dbscan with eps = 0.4 and  min_pts = 6\n",
      "1 0\n",
      "\t NMI:  8.881784197e-06\n",
      "only found one cluster  clustering data 3 using dbscan with eps = 0.4 and  min_pts = 6\n",
      " ---------------------------------------------- \n",
      "200\n",
      "(200, 2)\n",
      "clustering data 3 using dbscan with eps = 0.4 and  min_pts = 7\n",
      "1 0\n",
      "\t NMI:  8.881784197e-06\n",
      "only found one cluster  clustering data 3 using dbscan with eps = 0.4 and  min_pts = 7\n"
     ]
    }
   ],
   "source": [
    "for i, cs_ns in clusterings_and_noise.items(): \n",
    "    for cs_n in cs_ns: \n",
    "        print(\" ---------------------------------------------- \")       \n",
    "        try: \n",
    "            if i == 1: \n",
    "                get_clustering_scores(data1_matrix, data1_labels, cs_n)\n",
    "            if i == 2: \n",
    "                get_clustering_scores(data2_matrix, data2_labels, cs_n)\n",
    "            if i == 3:\n",
    "                get_clustering_scores(data3_matrix, data3_labels, cs_n)\n",
    "        except ValueError as error: \n",
    "            print(\"only found one cluster \", cs_n[2])\n",
    "\n"
   ]
  },
  {
   "cell_type": "code",
   "execution_count": 14,
   "metadata": {
    "collapsed": false
   },
   "outputs": [],
   "source": [
    "def plotPointsBasedOnLabels(clusters, noise, colors, original_labels, data, shapes): \n",
    "    \"\"\"\n",
    "    black is noise\n",
    "    \"\"\"\n",
    "    K = len(clusters)\n",
    "    print(\"number of clusters: \", K)\n",
    "    all_points = [list(p) for p in data]\n",
    "    number_of_original_label = len(list(set(original_labels)))\n",
    "    for k in range(1, K+1): \n",
    "        for p in clusters[k]: \n",
    "            i = all_points.index(list(p))\n",
    "            plt.scatter(p[0], p[1], color=colors[k-1], marker=shapes[original_labels[i] - 1])\n",
    "    if noise:\n",
    "        for p in noise:\n",
    "            i = all_points.index(list(p))\n",
    "            plt.scatter(p[0], p[1], color=\"black\", marker=shapes[original_labels[i] - 1])\n",
    "    plt.show()"
   ]
  },
  {
   "cell_type": "code",
   "execution_count": 15,
   "metadata": {
    "collapsed": false,
    "scrolled": false
   },
   "outputs": [
    {
     "name": "stdout",
     "output_type": "stream",
     "text": [
      " clustering data 1 using dbscan with eps = 0.4 and  min_pts = 3 \n",
      " \t NMI:  0.926171848823 \t SC:  0.585198949456 \t CH:  326.978541133\n",
      "number of clusters:  3\n"
     ]
    },
    {
     "data": {
      "image/png": "[encoded data removed]",
      "text/plain": [
       "<matplotlib.figure.Figure at 0x2847e97f5f8>"
      ]
     },
     "metadata": {},
     "output_type": "display_data"
    },
    {
     "name": "stdout",
     "output_type": "stream",
     "text": [
      "clustering data 2 using dbscan with eps = 0.9 and  min_pts = 6 \n",
      " \t NMI:  0.908790490113 \t SC:  0.415764191075 \t CH:  206.827386859\n",
      "number of clusters:  3\n"
     ]
    },
    {
     "data": {
      "image/png": "[encoded data removed]",
      "text/plain": [
       "<matplotlib.figure.Figure at 0x2847fc76a20>"
      ]
     },
     "metadata": {},
     "output_type": "display_data"
    },
    {
     "name": "stdout",
     "output_type": "stream",
     "text": [
      "clustering data 3 using dbscan with eps = 0.3 and  min_pts = 7 \n",
      " \t NMI:  1.0 \t SC:  0.362298541786 \t CH:  162.813208069\n",
      "number of clusters:  2\n"
     ]
    },
    {
     "data": {
      "image/png": "[encoded data removed]",
      "text/plain": [
       "<matplotlib.figure.Figure at 0x2847fc769e8>"
      ]
     },
     "metadata": {},
     "output_type": "display_data"
    }
   ],
   "source": [
    "### only plotting the ones with the highest clustering evaluation score: \n",
    "\n",
    "print(\" clustering data 1 using dbscan with eps = 0.4 and  min_pts = 3\", \n",
    "      \"\\n \\t NMI:  0.926171848823 \\t SC:  0.585198949456 \\t CH:  326.978541133\")\n",
    "plotPointsBasedOnLabels(clusters132, noise132, [\"r\", \"g\", \"b\"], data1_labels, data1_matrix, ['x', '^', '*'])\n",
    "\n",
    "print(\"clustering data 2 using dbscan with eps = 0.9 and  min_pts = 6\", \n",
    "      \"\\n \\t NMI:  0.908790490113 \\t SC:  0.415764191075 \\t CH:  206.827386859\") \n",
    "plotPointsBasedOnLabels(clusters231, noise231, [\"r\", \"g\", \"b\"], data2_labels, data2_matrix, ['x', '^', '*'])\n",
    "\n",
    "\n",
    "print(\"clustering data 3 using dbscan with eps = 0.3 and  min_pts = 7\", \n",
    "      \"\\n \\t NMI:  1.0 \\t SC:  0.362298541786 \\t CH:  162.813208069\")\n",
    "\n",
    "plotPointsBasedOnLabels(clusters323, noise323, [\"r\", \"g\", \"b\"], data3_labels, data3_matrix, ['x', '^', '*'])"
   ]
  },
  {
   "cell_type": "markdown",
   "metadata": {},
   "source": [
    "### K-means implementation: \n"
   ]
  },
  {
   "cell_type": "code",
   "execution_count": 111,
   "metadata": {
    "collapsed": false
   },
   "outputs": [],
   "source": [
    "#### K-means algorithm \n",
    "## * should preform multiple random initializations and keep the best \n",
    "## ---- not crash when initialization results in empty clusters\n",
    "\n",
    "\n",
    "def k_means(K, input_matrix, num_restarts = 100):\n",
    "    \"\"\"\n",
    "    \"\"\"\n",
    "    clusterings = []\n",
    "    sses = []\n",
    "    for i in range(num_restarts): \n",
    "        print(\"i = \", i)\n",
    "        cluster_assignments, cluster_means, sse = K_means_helper(K, input_matrix, initial_means = False)\n",
    "        clusterings.append((cluster_assignments, cluster_means))\n",
    "        sses.append(sse)  \n",
    "    print(sses)\n",
    "    return clusterings[sses.index(min(sses))]\n",
    "    \n",
    "        \n",
    "        \n",
    "    \n",
    "def K_means_helper(K, input_matrix, initial_means = False): \n",
    "    \"\"\"\n",
    "    K: number of clusters \n",
    "    ...\n",
    "    \"\"\"\n",
    "    N, d = np.shape(input_matrix)\n",
    "    if isinstance(initial_means, bool): \n",
    "        randomInts = [random.randint(1, N-1)  for i in range(K)]\n",
    "        cluster_means = [input_matrix[i] for i in randomInts]\n",
    "    else: \n",
    "        cluster_means = initial_means\n",
    "   \n",
    "    cluster_assignments = np.zeros((N, K))\n",
    "    sse = compute_sse(input_matrix, cluster_assignments, cluster_means, K)\n",
    "    \n",
    "    converged = False\n",
    "    i = 0 \n",
    "    while not converged:\n",
    "        prev_cluster_assignments = cluster_assignments\n",
    "        cluster_assignments = get_cluster_assignments(K, cluster_means, input_matrix)\n",
    "        prev_means = cluster_means\n",
    "        cluster_means = get_cluster_means(K, cluster_assignments, input_matrix)\n",
    "        prev_sse = sse\n",
    "        sse = compute_sse(input_matrix, cluster_assignments, cluster_means, K)\n",
    "        converged = converged_check(prev_cluster_assignments, cluster_assignments, cluster_means, prev_means, prev_sse, sse, i)\n",
    "        i = i + 1\n",
    "#     print(\"i = \", i)\n",
    "    return (cluster_assignments, cluster_means, sse)\n",
    "        \n",
    "def converged_check(cluster_assignments_prev, cluster_assignments, cluster_means, cluster_means_prev, prev_sse, sse, i): \n",
    "    \"\"\"\n",
    "    \"\"\"\n",
    "#     print(\"same cluster assignement?: \", np.array_equal(cluster_assignments_prev, cluster_assignments))\n",
    "#     print(\"same cluster means?: \", np.array_equal(cluster_means, cluster_means_prev))\n",
    "#     print(\"same sse?:\", (prev_sse == sse))\n",
    "    return  (prev_sse == sse) or\\\n",
    "            np.array_equal(cluster_assignments_prev, cluster_assignments) or\\\n",
    "            np.array_equal(cluster_means, cluster_means_prev)\n",
    "        \n",
    "def get_cluster_assignments(K, cluster_means, input_matrix): \n",
    "    \"\"\"\n",
    "    \"\"\"\n",
    "    N, d = np.shape(input_matrix)\n",
    "    cluster_assignments = np.zeros((N, K))\n",
    "    ### the rows are one hot vectors which indicate whether the data point is in the cluster\n",
    "    \n",
    "    for i in range(N): \n",
    "        x_i = input_matrix[i]\n",
    "        distances = list(map(lambda m: np.linalg.norm((x_i - m), ord=2), cluster_means))\n",
    "        k = distances.index(min(distances))\n",
    "        cluster_assignments[i, k] = 1\n",
    "    return cluster_assignments\n",
    "        \n",
    "def get_cluster_means(K, cluster_assignments, input_matrix):\n",
    "    \"\"\"\n",
    "    \"\"\"\n",
    "    N, d = np.shape(input_matrix)\n",
    "    new_means = [0 for i in range(K)]\n",
    "    \n",
    "    for k in range(K):\n",
    "        c = cluster_assignments[:, k]\n",
    "        den = np.sum(cluster_assignments, axis = 0)[0]\n",
    "        num = 0\n",
    "        for i in range(N): \n",
    "            if cluster_assignments[i, k] == 1: \n",
    "                num += input_matrix[i]\n",
    "        if num is 0: \n",
    "            new_means[k] = np.zeros((1, d))\n",
    "        else:\n",
    "            new_means[k] = num/den\n",
    "            \n",
    "    return new_means\n",
    "\n",
    "def compute_sse(input_matrix, clustering_assignments, cluster_means, K): \n",
    "    \"\"\"\n",
    "    \"\"\"\n",
    "    SSE_list = []\n",
    "    for k in range(K): \n",
    "        cluster_k =  getClusteredData(input_matrix, clustering_assignments, k)\n",
    "        if len(cluster_k)  == 0: \n",
    "            sse_k = 0\n",
    "            \n",
    "        else: \n",
    "            mean_k = np.resize(cluster_means[k], np.shape(cluster_k))\n",
    "            sse_k = np.linalg.norm((cluster_k - mean_k), ord=2,axis = 0).mean(axis=0)\n",
    "        SSE_list.append(sse_k) \n",
    "    return sum(SSE_list)\n",
    "\n",
    "def getClusteredData(input_matrix, cluster_assignments, k):\n",
    "    \"\"\"\n",
    "    \"\"\"\n",
    "    wanted = cluster_assignments[:, k]\n",
    "    wanted_X = []\n",
    "   \n",
    "    for i in range(len(wanted)):\n",
    "        if cluster_assignments[i][k] == 1: \n",
    "            wanted_X.append(input_matrix[i])\n",
    "            \n",
    "    return wanted_X\n",
    "\n"
   ]
  },
  {
   "cell_type": "code",
   "execution_count": 101,
   "metadata": {
    "collapsed": true
   },
   "outputs": [],
   "source": [
    "# def check_results(cluster_assignments, input_matrix, ): \n",
    "    "
   ]
  },
  {
   "cell_type": "code",
   "execution_count": 98,
   "metadata": {
    "collapsed": false
   },
   "outputs": [],
   "source": [
    "def plotResults(input_matrix, cluster_assignments, centroids, K, colors):\n",
    "    \"\"\"\n",
    "    \"\"\"\n",
    "    cluster_0  =  getClusteredData(input_matrix, cluster_assignments, 0)\n",
    "    df = DataFrame(cluster_0, columns = ['x1', 'x2'])\n",
    "    c_0 =  df.plot(kind='scatter', x = 'x1', y = 'x2', color=colors[0])\n",
    " \n",
    "    c_k = None \n",
    "    for k in range(K-1):\n",
    "        k = k + 1\n",
    "        cluster_k  =  getClusteredData(input_matrix, cluster_assignments, k)\n",
    "        if len(cluster_k) == 0: \n",
    "            continue\n",
    "        df = DataFrame(cluster_k, columns = ['x1', 'x2'])\n",
    "        c_k =  df.plot(kind='scatter', x = 'x1', y = 'x2', color=colors[k], ax=c_0)\n",
    "        df = DataFrame(centroids, columns = ['x1', 'x2'])\n",
    "\n",
    "        df.plot(kind='scatter', x = 'x1', y = 'x2', color='black', s = 25, marker = 'x',  ax = c_k)\n",
    "    plt.show()\n",
    "\n"
   ]
  },
  {
   "cell_type": "code",
   "execution_count": null,
   "metadata": {
    "collapsed": false,
    "scrolled": false
   },
   "outputs": [
    {
     "name": "stdout",
     "output_type": "stream",
     "text": [
      "i =  0\n",
      "i =  1\n",
      "i =  2\n"
     ]
    }
   ],
   "source": [
    "########### run k-means: \n",
    "\n",
    "def plot_k_means(data_matrix, K, num_restarts = 10): \n",
    "    \"\"\" \n",
    "    \"\"\"\n",
    "    cluster_assignments, cluster_means = k_means(K, data_matrix, num_restarts=num_restarts)\n",
    "    plotResults(data_matrix,\n",
    "                cluster_assignments, \n",
    "                cluster_means,\n",
    "                K, \n",
    "                [\"red\", \"blue\", \"green\", \"pink\", \"yellow\"])\n",
    "    \n",
    "    \n",
    "plot_k_means(data1_matrix, 3)\n",
    "plot_k_means(data2_matrix, 3)\n",
    "plot_k_means(data3_matrix, 2)"
   ]
  },
  {
   "cell_type": "code",
   "execution_count": 89,
   "metadata": {
    "collapsed": true
   },
   "outputs": [],
   "source": [
    "#### Expectation Maximization for gaussian mixture models \n",
    "## * should perform multiple restarts and accept initial values for the mean and covariance as input \n",
    "\n",
    "## initialize the the mean by sampling from a gaussian distribution centered on a random point in the data\n",
    "\n",
    "## initialize the variance along each dimension to a random fraction of the total variance in the data\n",
    "\n",
    "## \n",
    "\n",
    "def GMM(init_mean, init_variance): \n",
    "    \"\"\"\n",
    "    \"\"\"\n",
    "    pass    "
   ]
  },
  {
   "cell_type": "code",
   "execution_count": null,
   "metadata": {
    "collapsed": true
   },
   "outputs": [],
   "source": []
  },
  {
   "cell_type": "code",
   "execution_count": null,
   "metadata": {
    "collapsed": true
   },
   "outputs": [],
   "source": []
  }
 ],
 "metadata": {
  "anaconda-cloud": {},
  "kernelspec": {
   "display_name": "Python [default]",
   "language": "python",
   "name": "python3"
  },
  "language_info": {
   "codemirror_mode": {
    "name": "ipython",
    "version": 3
   },
   "file_extension": ".py",
   "mimetype": "text/x-python",
   "name": "python",
   "nbconvert_exporter": "python",
   "pygments_lexer": "ipython3",
   "version": "3.5.2"
  }
 },
 "nbformat": 4,
 "nbformat_minor": 1
}
